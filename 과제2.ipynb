{
 "cells": [
  {
   "cell_type": "markdown",
   "id": "c89c5cd9-9aaf-495f-85f5-781fac74bb2d",
   "metadata": {},
   "source": [
    "#### 1. 자연수 n이 매개변수로 주어질 때 n의 소인수를 오름차순으로 담은 배열을 return하도록 solution 함수를 완성해주세요."
   ]
  },
  {
   "cell_type": "code",
   "execution_count": null,
   "id": "80550d25-5aaa-42d6-a9d7-df4001e86643",
   "metadata": {},
   "outputs": [],
   "source": [
    "def solution(n) :\n",
    "  res = []\n",
    "  i = 2\n",
    "  while i<=n :\n",
    "    if n % i == 0 :\n",
    "      n//=i\n",
    "      if i not in res :\n",
    "        res.append(i)\n",
    "    else :\n",
    "      i+=1\n",
    "  return res\n",
    "\n",
    "n = int(input(\"자연수를 입력하세요 : \"))\n",
    "print(solution(n))"
   ]
  },
  {
   "cell_type": "markdown",
   "id": "31692d38-98d2-4806-b04c-b74eb7c66503",
   "metadata": {},
   "source": [
    "res 리스트는 결과를 저장할 리스트입니다.\r\n",
    "i는 소인수를 찾기 위한 변수로,가장 작은 소수인  2부터 시작합니다\n",
    "while문을 이용하여 i가 \r\n",
    "n보다 작거나 같을 때까지 반복합니\n",
    "n이 i로 나누어 떨어지면 (n % i == 0) \r\n",
    "n을 i로 나누고 (n //= i).\r\n",
    "i가 res 리스트에 없으면 (if i not in res), res에 i를 추가합니다.\r\n",
    "이렇게\r\n",
    "𝑛\r\n",
    "n을 소인수 i로 나눈 후 남은 값으로 다시 검사하\n",
    "n이 i로 나누어 떨어지지 않으면, i를 1 증가시켜 다음 숫자로 넘어갑니다.\n",
    "결과값으로 소인수 리스트 res를 반환합니다.게 됩니다.다.."
   ]
  },
  {
   "cell_type": "markdown",
   "id": "58679184-015a-4354-98ca-81d96d0a77cb",
   "metadata": {},
   "source": [
    "#### 2. 주사위 게임"
   ]
  },
  {
   "cell_type": "code",
   "execution_count": null,
   "id": "2adb4123-5a92-4811-9a0e-2aa1f10ec4e8",
   "metadata": {},
   "outputs": [],
   "source": [
    "import random\n",
    "def dice() :\n",
    "  return random.randint(1,6)\n",
    "p1 = input(\"첫번째 플레이어 이름 : \")\n",
    "p2 = input(\"두번째 플레이어 이름 : \")\n",
    "r1 = dice()\n",
    "r2 = dice()\n",
    "print(f\"{p1} : {r1}\")\n",
    "print(f\"{p2} : {r2}\")\n",
    "if r1> r2 :\n",
    "  print(f\"{p1} 승리!\")\n",
    "elif r1 < r2 :\n",
    "  print(f\"{p2} 승리!\")\n",
    "else :\n",
    "  print(\"무승부!\")"
   ]
  },
  {
   "cell_type": "markdown",
   "id": "72aa6721-6018-4bb6-974c-17312207f6aa",
   "metadata": {},
   "source": [
    "random 모듈을 임포트합니다. 이 모듈은 임의의 숫자를 생성하는 기능을 제공합니다.\r\n",
    "dice 함수는 1부터 6까지의 정수 중 하나를 임의로 반환합니다. 이는 주사위를 굴렸을 때 나오는 결과를 의미합니다\n",
    "첫 번째 플레이어의 이름을 입력받아 p1 변수에 저장합니다.\r\n",
    "두 번째 플레이어의 이름을 입력받아 p2 변수에 저장합니다\n",
    "dice 함수를 호출하여 첫 번째 플레이어의 주사위 결과를 r1 변수에 저장합니다.\r\n",
    "dice 함수를 다시 호출하여 두 번째 플레이어의 주사위 결과를 r2 변수에 저장합니다\n",
    "첫 번째 플레이어의 이름과 주사위 결과를 출력합니다.\r\n",
    "두 번째 플레이어의 이름과 주사위 결과를 출력합니다\n",
    "첫 번째 플레이어의 주사위 결과(r1)가 두 번째 플레이어의 주사위 결과(r2)보다 크면 첫 번째 플레이어의 승리 메시지를 출력합니다.\r\n",
    "반대로 두 번째 플레이어의 주사위 결과가 더 크면 두 번째 플레이어의 승리 메시지를 출력합니다.\r\n",
    "두 결과가 같으면 무승부 메시지를 출력합니다....."
   ]
  },
  {
   "cell_type": "markdown",
   "id": "22b008d4-2ea5-47a1-8fa9-c3e9a29716ea",
   "metadata": {},
   "source": [
    "#### 3. 100! 값의 개별 digit 합을 알아보는 Python code를 작성하기"
   ]
  },
  {
   "cell_type": "code",
   "execution_count": null,
   "id": "5f0ee190-12b0-4841-a647-a052abee2f20",
   "metadata": {},
   "outputs": [],
   "source": [
    "def factorial(n):\n",
    "  if n == 1 :\n",
    "    return 1\n",
    "  else :\n",
    "    return n*factorial(n-1)\n",
    "sum_ = 0\n",
    "for i in str(factorial(100)) :\n",
    "  sum_ += int(i)\n",
    "print(sum_)"
   ]
  },
  {
   "cell_type": "markdown",
   "id": "6bd0d2e3-55b5-4158-9ff0-d00088dc3de8",
   "metadata": {},
   "source": [
    "factorial 함수는 재귀적으로 팩토리얼을 계산합니다.\r\n",
    "n이 1이면, 팩토리얼은 1입니다.\r\n",
    "그렇지 않으면, n * factorial(n - 1)을 반환하여 재귀적으로 계산합.\n",
    "factorial(100)을 호출하여 100!의 값을 계산합니다.\r\n",
    "str(factorial(100))을 통해 결과를 문자열로 변환합니.\n",
    "각 자리 숫자를 순회하며 sum_에 더합니다.\r\n",
    "for i in str(factorial(100)):는 문자열의 각 문자를 순회합니다.\r\n",
    "int(i)는 각 문자를 정수로 변환하여 sum_에 더합니\n",
    "최종적으로 sum_을 출력합니다. 이는 100!의 각 자리 숫자의 합입니다.다.다니다"
   ]
  }
 ],
 "metadata": {
  "kernelspec": {
   "display_name": "Python 3 (ipykernel)",
   "language": "python",
   "name": "python3"
  },
  "language_info": {
   "codemirror_mode": {
    "name": "ipython",
    "version": 3
   },
   "file_extension": ".py",
   "mimetype": "text/x-python",
   "name": "python",
   "nbconvert_exporter": "python",
   "pygments_lexer": "ipython3",
   "version": "3.11.7"
  }
 },
 "nbformat": 4,
 "nbformat_minor": 5
}

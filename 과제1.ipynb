{
 "cells": [
  {
   "cell_type": "markdown",
   "id": "ed019044-5171-4932-981d-b2e37e023b5d",
   "metadata": {},
   "source": [
    "### 소수 만들기"
   ]
  },
  {
   "cell_type": "markdown",
   "id": "a1e737b8-fef0-4207-ac68-5a533818e7b1",
   "metadata": {},
   "source": [
    "#### 모듈 불러오기"
   ]
  },
  {
   "cell_type": "code",
   "execution_count": null,
   "id": "9ef9dd3e-76f9-4b8d-82c1-4d2357c9c4f4",
   "metadata": {},
   "outputs": [],
   "source": [
    "from itertools import combinations"
   ]
  },
  {
   "cell_type": "markdown",
   "id": "2abdc9c8-2aac-4bf2-85b0-c8d76e7a3ec6",
   "metadata": {},
   "source": [
    "itertools 모듈에서 combinations 함수를 가져옵니다. 이 함수는 주어진 리스트에서 가능한 모든 조합을 생성합니다."
   ]
  },
  {
   "cell_type": "markdown",
   "id": "6463ad27-fe57-4429-9475-6b21f6f74e9a",
   "metadata": {},
   "source": [
    "#### 소수 판별 함수(is_prime)"
   ]
  },
  {
   "cell_type": "code",
   "execution_count": null,
   "id": "34aee2a4-2543-4b24-b335-20da0bf7db2b",
   "metadata": {},
   "outputs": [],
   "source": [
    "def is_prime(n):\n",
    "    for i in range(2,n):\n",
    "        if (n % i) == 0:\n",
    "            return False\n",
    "            break\n",
    "    if n == 1 :\n",
    "        return False\n",
    "    return True"
   ]
  },
  {
   "cell_type": "markdown",
   "id": "3c188fd3-9358-4b94-9f29-27c32e10cde2",
   "metadata": {},
   "source": [
    "is_prime 함수는 입력된 숫자 n이 소수인지 확인합니다.\n",
    "2부터 n-1까지의 숫자로 나눠서 나누어 떨어지는지 확인합니다. 만약 나누어 떨어진다면 소수가 아니므로 False를 반환합니다.\n",
    "1은 소수가 아니므로 False를 반환합니다.\n",
    "그 외의 경우에는 소수로 판단하여 True를 반환합니다."
   ]
  },
  {
   "cell_type": "markdown",
   "id": "4403d7b7-8385-4c3d-bd7e-36369c7e960b",
   "metadata": {},
   "source": [
    "#### 문제해결함수(solution)"
   ]
  },
  {
   "cell_type": "code",
   "execution_count": null,
   "id": "c528aeb1-0fbd-42b6-a4af-5ab09cfc4c92",
   "metadata": {},
   "outputs": [],
   "source": [
    "def solution(nums):\n",
    "    count = 0\n",
    "    combs = list(combinations(nums,3))\n",
    "    for c in combs:\n",
    "      n = 0\n",
    "      for i in c:\n",
    "        n += i\n",
    "      if is_prime(n) == True:\n",
    "        count += 1\n",
    "    return count"
   ]
  },
  {
   "cell_type": "markdown",
   "id": "ab3c48f9-e9ff-41b7-911b-a0f31697760a",
   "metadata": {},
   "source": [
    "solution 함수는 입력된 숫자 리스트에서 세 개의 숫자를 조합하여 그 합이 소수인 경우의 수를 세는 함수입니다.\n",
    "combinations(nums, 3)를 사용하여 입력된 숫자 리스트에서 가능한 모든 3개의 조합을 생성합니다.\n",
    "각 조합의 합을 구하고, 이 합이 소수인지 is_prime 함수를 사용하여 확인합니다.\n",
    "합이 소수인 경우 count를 증가시킵니다.\n",
    "모든 조합을 확인한 후, 소수인 조합의 개수를 반환합니다."
   ]
  },
  {
   "cell_type": "markdown",
   "id": "da9ec022-bcf3-494c-9e28-5801dd3c85f9",
   "metadata": {},
   "source": [
    "#### 입력과 결과 출력"
   ]
  },
  {
   "cell_type": "code",
   "execution_count": null,
   "id": "574c8a73-e894-4ed4-becc-b3b8f9b16f86",
   "metadata": {},
   "outputs": [],
   "source": [
    "nums = list(map(int,input(\"여러 개의 숫자를 공백으로 구분하여 입력하세요: \").split()))\n",
    "print(f\"{nums}: {solution(nums)}개\")"
   ]
  },
  {
   "cell_type": "markdown",
   "id": "587e2f8d-2871-4e19-97be-695bcd11c843",
   "metadata": {},
   "source": [
    "사용자로부터 공백으로 구분된 숫자를 입력받고, 이를 정수 리스트로 변환합니다.\n",
    "solution 함수를 호출하여 소수가 되는 조합의 개수를 계산하고, 결과를 출력합니다."
   ]
  },
  {
   "cell_type": "markdown",
   "id": "9de00539-b638-43c7-a1cc-89e74fc1ae81",
   "metadata": {},
   "source": [
    "#### Python code"
   ]
  },
  {
   "cell_type": "code",
   "execution_count": null,
   "id": "23fea27f-a894-4425-935c-cb14232aa24b",
   "metadata": {},
   "outputs": [],
   "source": [
    "from itertools import combinations\n",
    "def is_prime(n):\n",
    "    for i in range(2,n):\n",
    "        if (n % i) == 0:\n",
    "            return False\n",
    "            break\n",
    "    if n == 1 :\n",
    "        return False\n",
    "    return True\n",
    "def solution(nums):\n",
    "    count = 0\n",
    "    combs = list(combinations(nums,3))\n",
    "    for c in combs:\n",
    "      n = 0\n",
    "      for i in c:\n",
    "        n += i\n",
    "      if is_prime(n) == True:\n",
    "        count += 1\n",
    "    return count\n",
    "nums = list(map(int,input(\"여러 개의 숫자를 공백으로 구분하여 입력하세요: \").split()))\n",
    "print(f\"{nums}: {solution(nums)}개\")"
   ]
  },
  {
   "cell_type": "markdown",
   "id": "8fc33f6d-e161-4058-ad57-b2052c64cf05",
   "metadata": {},
   "source": [
    "이 코드는 주어진 숫자 리스트에서 세 개의 숫자를 조합하여 그 합이 소수가 되는 경우의 수를 찾습니다. 이를 위해 itertools 모듈의 combinations 함수를 사용하여 리스트에서 가능한 모든 세 숫자의 조합을 생성하고, 각 조합의 합을 구하여 소수 여부를 판별합니다"
   ]
  }
 ],
 "metadata": {
  "kernelspec": {
   "display_name": "Python 3 (ipykernel)",
   "language": "python",
   "name": "python3"
  },
  "language_info": {
   "codemirror_mode": {
    "name": "ipython",
    "version": 3
   },
   "file_extension": ".py",
   "mimetype": "text/x-python",
   "name": "python",
   "nbconvert_exporter": "python",
   "pygments_lexer": "ipython3",
   "version": "3.11.7"
  }
 },
 "nbformat": 4,
 "nbformat_minor": 5
}

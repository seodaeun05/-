{
 "cells": [
  {
   "cell_type": "markdown",
   "id": "1f52dd30-bc1e-4cf3-b298-c7b3cb521c34",
   "metadata": {},
   "source": [
    "### 두 개의 자연수를 입력 받아서 나눗셈하기"
   ]
  },
  {
   "cell_type": "code",
   "execution_count": null,
   "id": "eaefe2f9-3946-4946-9535-d013b482575e",
   "metadata": {},
   "outputs": [],
   "source": [
    "try:\n",
    "    numbers = list(map(int, input(\"숫자 두개를 입력해주세요: \").split()))\n",
    "    \n",
    "    if len(numbers) != 2:\n",
    "        raise ValueError(\"2개의 숫자를 입력해야 합니다.\")\n",
    "    \n",
    "    a, b = numbers\n",
    "    c = a / b\n",
    "    print(f'{a} / {b} = {c}')"
   ]
  },
  {
   "cell_type": "markdown",
   "id": "77f9a548-e684-4a77-b482-d7492e3f5730",
   "metadata": {},
   "source": [
    "#### 입력받기"
   ]
  },
  {
   "cell_type": "markdown",
   "id": "3621e6e9-7afc-4795-9441-36a9ddc4efee",
   "metadata": {},
   "source": [
    "input 함수로 사용자로부터 문자열을 입력받습니다.\n",
    "split() 메서드를 사용하여 입력된 문자열을 공백을 기준으로 나눕니다.\n",
    "map(int, ...)를 사용하여 나눠진 문자열을 정수로 변환합니다.\n",
    "list()를 사용하여 변환된 정수들을 리스트에 저장합니다."
   ]
  },
  {
   "cell_type": "markdown",
   "id": "04328459-8579-4a97-b0a9-18b734388cd0",
   "metadata": {},
   "source": [
    "#### 숫자의 개수 확인"
   ]
  },
  {
   "cell_type": "markdown",
   "id": "9894a4a1-8f16-43cd-ba09-38dafc49c81c",
   "metadata": {},
   "source": [
    "리스트 numbers의 길이가 2가 아닌 경우 ValueError 예외를 발생시킵니다.\n",
    "이는 두 개의 숫자가 입력되지 않았음을 의미합니다."
   ]
  },
  {
   "cell_type": "markdown",
   "id": "8b019316-53ee-43f9-8455-c89ccdc1ccfe",
   "metadata": {},
   "source": [
    "#### 변수 할당 및 나눗셈"
   ]
  },
  {
   "cell_type": "markdown",
   "id": "11be1a35-fbc6-4d33-a842-794713a6f326",
   "metadata": {},
   "source": [
    "a, b = numbers\n",
    "리스트 numbers에서 첫 번째 숫자는 a에, 두 번째 숫자는 b에 할당됩니다.\n",
    "c = a / b\n",
    "a를 b로 나눕니다."
   ]
  },
  {
   "cell_type": "markdown",
   "id": "19ca64c6-5367-4467-a05f-38eb2d042b75",
   "metadata": {},
   "source": [
    "#### 예외처리"
   ]
  },
  {
   "cell_type": "code",
   "execution_count": null,
   "id": "1634c13d-0170-4672-a5f3-e26c0e6ec234",
   "metadata": {},
   "outputs": [],
   "source": [
    "except ZeroDivisionError as e:\n",
    "    print(\"0으로 나눌 수 없습니다:\", e)"
   ]
  },
  {
   "cell_type": "markdown",
   "id": "44ceb72e-f3e2-4eee-8606-02a789738449",
   "metadata": {},
   "source": [
    "ZeroDivisionError 예외를 처리합니다. 이는 b가 0일 때 발생합니다.\n",
    "사용자에게 \"0으로 나눌 수 없습니다\"라는 메시지를 출력합니다."
   ]
  },
  {
   "cell_type": "code",
   "execution_count": null,
   "id": "71a4372f-7950-4bd8-a781-4aaf2075b028",
   "metadata": {},
   "outputs": [],
   "source": [
    "except ValueError as e:\n",
    "    print(\"입력한 숫자의 갯수를 확인해주세요:\", e)"
   ]
  },
  {
   "cell_type": "markdown",
   "id": "d2bb1191-b0a3-4426-a828-dd21e86a16c4",
   "metadata": {},
   "source": [
    "ValueError 예외를 처리합니다. 이는 입력된 숫자의 개수가 2개가 아닌 경우 발생합니다.\n",
    "사용자에게 \"입력한 숫자의 갯수를 확인해주세요\"라는 메시지를 출력합니다."
   ]
  },
  {
   "cell_type": "code",
   "execution_count": null,
   "id": "1bc54592-67e6-46ac-866b-dbb6a8f84b88",
   "metadata": {},
   "outputs": [],
   "source": [
    "except Exception as e:\n",
    "    print(\"입력한 숫자를 확인해주세요:\", e)"
   ]
  },
  {
   "cell_type": "markdown",
   "id": "b4ad8f49-70d2-432b-8450-63ef2e6a7df2",
   "metadata": {},
   "source": [
    "기타 모든 예외를 처리합니다.\n",
    "사용자에게 \"입력한 숫자를 확인해주세요\"라는 메시지를 출력합니다."
   ]
  },
  {
   "cell_type": "markdown",
   "id": "2d45cfcf-b94a-4ddf-a056-d5e06f23462e",
   "metadata": {},
   "source": [
    "#### finally 블록"
   ]
  },
  {
   "cell_type": "code",
   "execution_count": null,
   "id": "3030414e-2947-444f-920b-80682d43b400",
   "metadata": {},
   "outputs": [],
   "source": [
    "finally:\n",
    "    print(\"계산이 완료되었습니다.\")"
   ]
  },
  {
   "cell_type": "markdown",
   "id": "fa90a38f-cca5-4836-a3b7-966e62a523b7",
   "metadata": {},
   "source": [
    "예외 발생 여부와 상관없이 항상 실행됩니다.\n",
    "\"계산이 완료되었습니다\"라는 메시지를 출력합니다."
   ]
  },
  {
   "cell_type": "markdown",
   "id": "a0895e51-f2cc-4a6e-a3fb-7d328ac8c87f",
   "metadata": {},
   "source": [
    "### Python code"
   ]
  },
  {
   "cell_type": "code",
   "execution_count": null,
   "id": "2c6b7cec-452a-4be6-9d87-c945bab24eb7",
   "metadata": {},
   "outputs": [],
   "source": [
    "try:\n",
    "    numbers = list(map(int, input(\"숫자 두개를 입력해주세요: \").split()))\n",
    "    \n",
    "    if len(numbers) != 2:\n",
    "        raise ValueError(\"2개의 숫자를 입력해야 합니다.\")\n",
    "    \n",
    "    a, b = numbers  # 리스트에서 첫 번째와 두 번째 숫자 할당\n",
    "    c = a / b\n",
    "    print(f'{a} / {b} = {c}')\n",
    "    \n",
    "except ZeroDivisionError as e:\n",
    "    print(\"0으로 나눌 수 없습니다:\", e)\n",
    "except ValueError as e:\n",
    "    print(\"입력한 숫자의 갯수를 확인해주세요:\", e)\n",
    "except Exception as e:\n",
    "    print(\"입력한 숫자를 확인해주세요:\", e)\n",
    "finally:\n",
    "    print(\"계산이 완료되었습니다.\")\n"
   ]
  },
  {
   "cell_type": "markdown",
   "id": "f0be0e71-5b74-4d3d-bfaf-5f917db2bd8b",
   "metadata": {},
   "source": [
    "이 코드는 사용자로부터 정확히 두 개의 숫자를 입력받고, 이를 나누는 과정을 거칩니다. 입력된 숫자의 개수가 두 개가 아닌 경우와 나눗셈이 0으로 나눠지는 경우에 대해 적절히 예외 처리를 합니다."
   ]
  }
 ],
 "metadata": {
  "kernelspec": {
   "display_name": "Python 3 (ipykernel)",
   "language": "python",
   "name": "python3"
  },
  "language_info": {
   "codemirror_mode": {
    "name": "ipython",
    "version": 3
   },
   "file_extension": ".py",
   "mimetype": "text/x-python",
   "name": "python",
   "nbconvert_exporter": "python",
   "pygments_lexer": "ipython3",
   "version": "3.11.7"
  }
 },
 "nbformat": 4,
 "nbformat_minor": 5
}
